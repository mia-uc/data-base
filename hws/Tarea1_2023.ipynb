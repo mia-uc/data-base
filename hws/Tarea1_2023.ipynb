{
  "cells": [
    {
      "cell_type": "markdown",
      "metadata": {
        "id": "vc5za62UuInv"
      },
      "source": [
        "### **INF3831 - Bases de Datos**\n",
        "# Evaluación 1: SQL\n",
        "\n",
        "## 1. Introducción\n",
        "---\n",
        "En esta tarea evaluaremos sus conocimientos de SQL.\n",
        "\n",
        "En este notebook dejaremos el espacio para escribir sus consultas, y probar si funcionan correctamente.\n",
        "\n",
        "Para entregar su solución, basta con escribir sus respuestas en el notebook, **guardar los cambios**, descargar el notebook, y subirlo por canvas.\n",
        "\n",
        "\n",
        "\n",
        "\n"
      ]
    },
    {
      "cell_type": "markdown",
      "metadata": {
        "id": "Krqf1n6-uIn7"
      },
      "source": [
        "\n",
        "## 2. Esquema\n",
        "\n",
        "Para esta actividad vamos a trabajar con datos de una empresa que vende productos a través de varias tiendas. Trabajaremos con el siguiente esquema:\n",
        "\n",
        "- Tiendas(tid PRIMARY KEY, calle, comuna, region)\n",
        "- Productos(pid PRIMARY KEY, nombre, precio, tipo)\n",
        "- Vende(tid,pid) PRIMARY KEY(tid,pid)\n",
        "- Usuarios(uid PRIMARY KEY, nombre, calle, comuna, region)\n",
        "- Compras(cid PRIMARY KEY, uid, tid)\n",
        "- Contenido_Compra(cid,pid,cantidad) PRIMARY KEY (cid,pid)\n",
        "\n",
        "En este esquema, la tabla 'Tiendas' tiene información sobre cada tienda de la empresa. La información que guardaremos sobre cada tienda es su id único, y la dirección de la tienda, compuesta por calle, comuna y región. El repositorio (único) de productos se guarda en la tabla 'Productos', donde cada producto se describe a través de su id, nombre, su precio y tipo. Para registrar que una tienda en particular vende un producto, se ocupa la tabla 'Vende', vinculando la tienda con el producto. Por otro lado, la tabla 'Usuarios' tiene un registro de los usuarios de la empresa, respaldando la información con su nombre y dirección.\n",
        "\n",
        "Para registrar las compras que los usuarios realizan de una tienda específica, se tienen dos tablas. La primera, llamada 'Compras' establece una compra de un usuario en una tienda, y la tabla 'Contenido_Compra' guarda la información sobre los productos comprados en cada compra individual. También se guarda la información sobre la cantidad de unidades de cada producto comprado para poder modelar que un usuario compra varias unidades del mismo producto en una compra."
      ]
    },
    {
      "cell_type": "markdown",
      "metadata": {
        "id": "Ol5ubZWigk4T"
      },
      "source": [
        "## 3. Datos\n",
        "\n",
        "Aquí crearemos una instancia del esquema de arriba e insertaremos algunos datos a la instancia.\n",
        "\n",
        "La idea es que cada tabla debería tener al menos una fila y cada consulta de abajo debería devolver al menos una respuesta con los datos especificados."
      ]
    },
    {
      "cell_type": "code",
      "execution_count": null,
      "metadata": {
        "colab": {
          "base_uri": "https://localhost:8080/"
        },
        "id": "iTcPwHyig6sm",
        "outputId": "11bc17bf-7fd6-4269-9990-b61998521e9e"
      },
      "outputs": [
        {
          "output_type": "stream",
          "name": "stdout",
          "text": [
            "\u001b[33m\r0% [Working]\u001b[0m\r            \rHit:1 https://developer.download.nvidia.com/compute/cuda/repos/ubuntu2004/x86_64  InRelease\n",
            "\u001b[33m\r0% [Connecting to archive.ubuntu.com] [Waiting for headers] [Connected to cloud\u001b[0m\r                                                                               \rHit:2 http://security.ubuntu.com/ubuntu focal-security InRelease\n",
            "Hit:3 https://cloud.r-project.org/bin/linux/ubuntu focal-cran40/ InRelease\n",
            "Hit:4 http://ppa.launchpad.net/c2d4u.team/c2d4u4.0+/ubuntu focal InRelease\n",
            "Hit:5 http://archive.ubuntu.com/ubuntu focal InRelease\n",
            "Hit:6 http://archive.ubuntu.com/ubuntu focal-updates InRelease\n",
            "Hit:7 http://archive.ubuntu.com/ubuntu focal-backports InRelease\n",
            "Hit:8 http://ppa.launchpad.net/cran/libgit2/ubuntu focal InRelease\n",
            "Hit:9 http://ppa.launchpad.net/deadsnakes/ppa/ubuntu focal InRelease\n",
            "Hit:10 http://ppa.launchpad.net/graphics-drivers/ppa/ubuntu focal InRelease\n",
            "Hit:11 http://ppa.launchpad.net/ubuntugis/ppa/ubuntu focal InRelease\n",
            "Reading package lists... Done\n",
            "Building dependency tree       \n",
            "Reading state information... Done\n",
            "24 packages can be upgraded. Run 'apt list --upgradable' to see them.\n",
            " * Starting PostgreSQL 12 database server\n",
            "   ...done.\n",
            "ERROR:  role \"root\" already exists\n",
            "The sql extension is already loaded. To reload it, use:\n",
            "  %reload_ext sql\n"
          ]
        }
      ],
      "source": [
        "# install\n",
        "!apt update\n",
        "!apt install postgresql postgresql-contrib &>log\n",
        "!service postgresql start\n",
        "!sudo -u postgres psql -c \"CREATE USER root WITH SUPERUSER\"\n",
        "# set connection\n",
        "%load_ext sql\n",
        "%config SqlMagic.feedback=False \n",
        "%config SqlMagic.autopandas=True\n",
        "%sql postgresql+psycopg2://@/postgres"
      ]
    },
    {
      "cell_type": "code",
      "execution_count": null,
      "metadata": {
        "colab": {
          "base_uri": "https://localhost:8080/",
          "height": 67
        },
        "id": "QpgyJVP5yoGj",
        "outputId": "36ce0e61-1587-4d0d-93cd-efa711bc6e2c"
      },
      "outputs": [
        {
          "output_type": "stream",
          "name": "stdout",
          "text": [
            " * postgresql+psycopg2://@/postgres\n"
          ]
        },
        {
          "output_type": "execute_result",
          "data": {
            "text/plain": [
              "Empty DataFrame\n",
              "Columns: []\n",
              "Index: []"
            ],
            "text/html": [
              "\n",
              "  <div id=\"df-77bdec51-85f9-476b-a31a-2d1ab624c248\">\n",
              "    <div class=\"colab-df-container\">\n",
              "      <div>\n",
              "<style scoped>\n",
              "    .dataframe tbody tr th:only-of-type {\n",
              "        vertical-align: middle;\n",
              "    }\n",
              "\n",
              "    .dataframe tbody tr th {\n",
              "        vertical-align: top;\n",
              "    }\n",
              "\n",
              "    .dataframe thead th {\n",
              "        text-align: right;\n",
              "    }\n",
              "</style>\n",
              "<table border=\"1\" class=\"dataframe\">\n",
              "  <thead>\n",
              "    <tr style=\"text-align: right;\">\n",
              "      <th></th>\n",
              "    </tr>\n",
              "  </thead>\n",
              "  <tbody>\n",
              "  </tbody>\n",
              "</table>\n",
              "</div>\n",
              "      <button class=\"colab-df-convert\" onclick=\"convertToInteractive('df-77bdec51-85f9-476b-a31a-2d1ab624c248')\"\n",
              "              title=\"Convert this dataframe to an interactive table.\"\n",
              "              style=\"display:none;\">\n",
              "        \n",
              "  <svg xmlns=\"http://www.w3.org/2000/svg\" height=\"24px\"viewBox=\"0 0 24 24\"\n",
              "       width=\"24px\">\n",
              "    <path d=\"M0 0h24v24H0V0z\" fill=\"none\"/>\n",
              "    <path d=\"M18.56 5.44l.94 2.06.94-2.06 2.06-.94-2.06-.94-.94-2.06-.94 2.06-2.06.94zm-11 1L8.5 8.5l.94-2.06 2.06-.94-2.06-.94L8.5 2.5l-.94 2.06-2.06.94zm10 10l.94 2.06.94-2.06 2.06-.94-2.06-.94-.94-2.06-.94 2.06-2.06.94z\"/><path d=\"M17.41 7.96l-1.37-1.37c-.4-.4-.92-.59-1.43-.59-.52 0-1.04.2-1.43.59L10.3 9.45l-7.72 7.72c-.78.78-.78 2.05 0 2.83L4 21.41c.39.39.9.59 1.41.59.51 0 1.02-.2 1.41-.59l7.78-7.78 2.81-2.81c.8-.78.8-2.07 0-2.86zM5.41 20L4 18.59l7.72-7.72 1.47 1.35L5.41 20z\"/>\n",
              "  </svg>\n",
              "      </button>\n",
              "      \n",
              "  <style>\n",
              "    .colab-df-container {\n",
              "      display:flex;\n",
              "      flex-wrap:wrap;\n",
              "      gap: 12px;\n",
              "    }\n",
              "\n",
              "    .colab-df-convert {\n",
              "      background-color: #E8F0FE;\n",
              "      border: none;\n",
              "      border-radius: 50%;\n",
              "      cursor: pointer;\n",
              "      display: none;\n",
              "      fill: #1967D2;\n",
              "      height: 32px;\n",
              "      padding: 0 0 0 0;\n",
              "      width: 32px;\n",
              "    }\n",
              "\n",
              "    .colab-df-convert:hover {\n",
              "      background-color: #E2EBFA;\n",
              "      box-shadow: 0px 1px 2px rgba(60, 64, 67, 0.3), 0px 1px 3px 1px rgba(60, 64, 67, 0.15);\n",
              "      fill: #174EA6;\n",
              "    }\n",
              "\n",
              "    [theme=dark] .colab-df-convert {\n",
              "      background-color: #3B4455;\n",
              "      fill: #D2E3FC;\n",
              "    }\n",
              "\n",
              "    [theme=dark] .colab-df-convert:hover {\n",
              "      background-color: #434B5C;\n",
              "      box-shadow: 0px 1px 3px 1px rgba(0, 0, 0, 0.15);\n",
              "      filter: drop-shadow(0px 1px 2px rgba(0, 0, 0, 0.3));\n",
              "      fill: #FFFFFF;\n",
              "    }\n",
              "  </style>\n",
              "\n",
              "      <script>\n",
              "        const buttonEl =\n",
              "          document.querySelector('#df-77bdec51-85f9-476b-a31a-2d1ab624c248 button.colab-df-convert');\n",
              "        buttonEl.style.display =\n",
              "          google.colab.kernel.accessAllowed ? 'block' : 'none';\n",
              "\n",
              "        async function convertToInteractive(key) {\n",
              "          const element = document.querySelector('#df-77bdec51-85f9-476b-a31a-2d1ab624c248');\n",
              "          const dataTable =\n",
              "            await google.colab.kernel.invokeFunction('convertToInteractive',\n",
              "                                                     [key], {});\n",
              "          if (!dataTable) return;\n",
              "\n",
              "          const docLinkHtml = 'Like what you see? Visit the ' +\n",
              "            '<a target=\"_blank\" href=https://colab.research.google.com/notebooks/data_table.ipynb>data table notebook</a>'\n",
              "            + ' to learn more about interactive tables.';\n",
              "          element.innerHTML = '';\n",
              "          dataTable['output_type'] = 'display_data';\n",
              "          await google.colab.output.renderOutput(dataTable, element);\n",
              "          const docLink = document.createElement('div');\n",
              "          docLink.innerHTML = docLinkHtml;\n",
              "          element.appendChild(docLink);\n",
              "        }\n",
              "      </script>\n",
              "    </div>\n",
              "  </div>\n",
              "  "
            ]
          },
          "metadata": {},
          "execution_count": 3
        }
      ],
      "source": [
        "%%sql\n",
        "DROP TABLE IF EXISTS Tiendas;\n",
        "CREATE TABLE Tiendas(tid INT PRIMARY KEY, calle VARCHAR(200), comuna VARCHAR(100), region VARCHAR(200));\n",
        "INSERT INTO Tiendas VALUES(1, 'Andres Bello 111', 'Providencia', 'RM');\n",
        "INSERT INTO Tiendas VALUES(2, 'Avenida Argentina 125', 'Valparaíso','Valparaíso');\n",
        "INSERT INTO Tiendas VALUES(3, 'Calle 10 Norte 145B', 'Viña del Mar', 'Valparaíso');\n",
        "\n",
        "DROP TABLE IF EXISTS Productos;\n",
        "CREATE TABLE Productos(pid INT PRIMARY KEY, nombre VARCHAR(200), precio FLOAT, tipo VARCHAR(100));\n",
        "INSERT INTO Productos VALUES(100, 'Polera BTS', 40, 'Ropa');\n",
        "INSERT INTO Productos VALUES(200, 'Polera RTS', 20, 'Ropa');\n",
        "INSERT INTO Productos VALUES(300, 'Refrigerador', 1000, 'Electro');\n",
        "INSERT INTO Productos VALUES(400, 'Mancuerna 10kgs', 80, 'Deporte');\n",
        "INSERT INTO Productos VALUES(500, 'Banda elástica', 10, 'Deporte');\n",
        "INSERT INTO Productos VALUES(600, 'Pelota Futbol', 200, 'Deporte');\n",
        "INSERT INTO Productos VALUES(700, 'Cafetera', 100, 'Electro');\n",
        "INSERT INTO Productos VALUES(800, 'Monitor', 200, 'Tecnología');\n",
        "INSERT INTO Productos VALUES(900, 'Notebook', 1200, 'Tecnología');\n",
        "INSERT INTO Productos VALUES(1000, 'Lomo kg', 10, 'Carne');\n",
        "\n",
        "DROP TABLE IF EXISTS Vende;\n",
        "CREATE TABLE Vende(tid INT, pid INT, PRIMARY KEY(tid, pid));\n",
        "INSERT INTO Vende VALUES(1, 100);\n",
        "INSERT INTO Vende VALUES(1, 200);\n",
        "INSERT INTO Vende VALUES(1, 300);\n",
        "INSERT INTO Vende VALUES(1, 400);\n",
        "INSERT INTO Vende VALUES(1, 500);\n",
        "INSERT INTO Vende VALUES(1, 600);\n",
        "INSERT INTO Vende VALUES(1, 700);\n",
        "INSERT INTO Vende VALUES(1, 800);\n",
        "INSERT INTO Vende VALUES(1, 900);\n",
        "INSERT INTO Vende VALUES(2, 100);\n",
        "INSERT INTO Vende VALUES(2, 200);\n",
        "INSERT INTO Vende VALUES(2, 300);\n",
        "INSERT INTO Vende VALUES(2, 700);\n",
        "INSERT INTO Vende VALUES(3, 100);\n",
        "INSERT INTO Vende VALUES(3, 200);\n",
        "INSERT INTO Vende VALUES(3, 300);\n",
        "INSERT INTO Vende VALUES(3, 400);\n",
        "INSERT INTO Vende VALUES(3, 500);\n",
        "INSERT INTO Vende VALUES(3, 700);\n",
        "INSERT INTO Vende VALUES(3, 800);\n",
        "INSERT INTO Vende VALUES(3, 900);\n",
        "INSERT INTO Vende VALUES(1, 1000);\n",
        "\n",
        "DROP TABLE IF EXISTS Usuarios;\n",
        "CREATE TABLE Usuarios(uid INT PRIMARY KEY, nombre VARCHAR(200), calle VARCHAR(200), comuna VARCHAR(100), region VARCHAR(200));\n",
        "INSERT INTO Usuarios VALUES(1, 'Valentina', 'Calle 123', 'Conchalí', 'RM');\n",
        "INSERT INTO Usuarios VALUES(2, 'Adrián', 'Dirección 145', 'Maipú', 'RM');\n",
        "INSERT INTO Usuarios VALUES(5, 'Lomos', 'Dirección 90', 'Maipú', 'RM');\n",
        "INSERT INTO Usuarios VALUES(3, 'Conito', 'Otra Calle 78', 'Viña del Mar', 'Valparaíso');\n",
        "INSERT INTO Usuarios VALUES(4, 'Frambuesa', 'Más direcciones 90', 'Concón', 'Valparaíso');\n",
        "INSERT INTO Usuarios VALUES(22, 'Domagoj', 'VicunaMackenn 4860', 'Macul', 'RM');\n",
        "\n",
        "\n",
        "DROP TABLE IF EXISTS Compras;\n",
        "CREATE TABLE Compras(cid INT PRIMARY KEY, uid INT, tid INT);\n",
        "INSERT INTO Compras VALUES(1, 1, 1);\n",
        "INSERT INTO Compras VALUES(101, 1, 1);\n",
        "INSERT INTO Compras VALUES(3, 1, 1);\n",
        "INSERT INTO Compras VALUES(4, 1, 2);\n",
        "INSERT INTO Compras VALUES(5, 1, 2);\n",
        "INSERT INTO Compras VALUES(6, 2, 1);\n",
        "INSERT INTO Compras VALUES(7, 2, 2);\n",
        "INSERT INTO Compras VALUES(8, 2, 3);\n",
        "INSERT INTO Compras VALUES(9, 3, 3);\n",
        "INSERT INTO Compras VALUES(10, 3, 3);\n",
        "INSERT INTO Compras VALUES(11, 3, 1);\n",
        "INSERT INTO Compras VALUES(12, 4, 1);\n",
        "\n",
        "DROP TABLE IF EXISTS Contenido_Compra;\n",
        "CREATE TABLE Contenido_Compra(cid INT, pid INT, cantidad INT, PRIMARY KEY(cid, pid));\n",
        "INSERT INTO Contenido_Compra VALUES(1, 100, 2);\n",
        "INSERT INTO Contenido_Compra VALUES(101, 800, 2);\n",
        "INSERT INTO Contenido_Compra VALUES(101, 900, 1);\n",
        "INSERT INTO Contenido_Compra VALUES(101, 100, 1);\n",
        "INSERT INTO Contenido_Compra VALUES(101, 1000, 3);\n",
        "INSERT INTO Contenido_Compra VALUES(3, 400, 2);\n",
        "INSERT INTO Contenido_Compra VALUES(4, 200, 3);\n",
        "INSERT INTO Contenido_Compra VALUES(5, 100, 1);\n",
        "INSERT INTO Contenido_Compra VALUES(6, 100, 3);\n",
        "INSERT INTO Contenido_Compra VALUES(6, 600, 1);\n",
        "INSERT INTO Contenido_Compra VALUES(7, 300, 1);\n",
        "INSERT INTO Contenido_Compra VALUES(7, 700, 1);\n",
        "INSERT INTO Contenido_Compra VALUES(8, 200, 4);\n",
        "INSERT INTO Contenido_Compra VALUES(8, 1000, 2);\n",
        "INSERT INTO Contenido_Compra VALUES(9, 100, 2);\n",
        "INSERT INTO Contenido_Compra VALUES(10, 100, 1);\n",
        "INSERT INTO Contenido_Compra VALUES(11, 200, 1);\n",
        "INSERT INTO Contenido_Compra VALUES(12, 500, 3);"
      ]
    },
    {
      "cell_type": "code",
      "execution_count": null,
      "metadata": {
        "colab": {
          "base_uri": "https://localhost:8080/",
          "height": 161
        },
        "id": "gvFW1I025mDn",
        "outputId": "be300ada-6c4c-4469-ebc9-8dc577ecbd12"
      },
      "outputs": [
        {
          "name": "stdout",
          "output_type": "stream",
          "text": [
            " * postgresql+psycopg2://@/postgres\n"
          ]
        },
        {
          "data": {
            "text/html": [
              "\n",
              "  <div id=\"df-09827962-8b2c-416b-b5af-21cfc2ab82fb\">\n",
              "    <div class=\"colab-df-container\">\n",
              "      <div>\n",
              "<style scoped>\n",
              "    .dataframe tbody tr th:only-of-type {\n",
              "        vertical-align: middle;\n",
              "    }\n",
              "\n",
              "    .dataframe tbody tr th {\n",
              "        vertical-align: top;\n",
              "    }\n",
              "\n",
              "    .dataframe thead th {\n",
              "        text-align: right;\n",
              "    }\n",
              "</style>\n",
              "<table border=\"1\" class=\"dataframe\">\n",
              "  <thead>\n",
              "    <tr style=\"text-align: right;\">\n",
              "      <th></th>\n",
              "      <th>tid</th>\n",
              "      <th>calle</th>\n",
              "      <th>comuna</th>\n",
              "      <th>region</th>\n",
              "    </tr>\n",
              "  </thead>\n",
              "  <tbody>\n",
              "    <tr>\n",
              "      <th>0</th>\n",
              "      <td>1</td>\n",
              "      <td>Andres Bello 111</td>\n",
              "      <td>Providencia</td>\n",
              "      <td>RM</td>\n",
              "    </tr>\n",
              "    <tr>\n",
              "      <th>1</th>\n",
              "      <td>2</td>\n",
              "      <td>Avenida Argentina 125</td>\n",
              "      <td>Valparaíso</td>\n",
              "      <td>Valparaíso</td>\n",
              "    </tr>\n",
              "    <tr>\n",
              "      <th>2</th>\n",
              "      <td>3</td>\n",
              "      <td>Calle 10 Norte 145B</td>\n",
              "      <td>Viña del Mar</td>\n",
              "      <td>Valparaíso</td>\n",
              "    </tr>\n",
              "  </tbody>\n",
              "</table>\n",
              "</div>\n",
              "      <button class=\"colab-df-convert\" onclick=\"convertToInteractive('df-09827962-8b2c-416b-b5af-21cfc2ab82fb')\"\n",
              "              title=\"Convert this dataframe to an interactive table.\"\n",
              "              style=\"display:none;\">\n",
              "        \n",
              "  <svg xmlns=\"http://www.w3.org/2000/svg\" height=\"24px\"viewBox=\"0 0 24 24\"\n",
              "       width=\"24px\">\n",
              "    <path d=\"M0 0h24v24H0V0z\" fill=\"none\"/>\n",
              "    <path d=\"M18.56 5.44l.94 2.06.94-2.06 2.06-.94-2.06-.94-.94-2.06-.94 2.06-2.06.94zm-11 1L8.5 8.5l.94-2.06 2.06-.94-2.06-.94L8.5 2.5l-.94 2.06-2.06.94zm10 10l.94 2.06.94-2.06 2.06-.94-2.06-.94-.94-2.06-.94 2.06-2.06.94z\"/><path d=\"M17.41 7.96l-1.37-1.37c-.4-.4-.92-.59-1.43-.59-.52 0-1.04.2-1.43.59L10.3 9.45l-7.72 7.72c-.78.78-.78 2.05 0 2.83L4 21.41c.39.39.9.59 1.41.59.51 0 1.02-.2 1.41-.59l7.78-7.78 2.81-2.81c.8-.78.8-2.07 0-2.86zM5.41 20L4 18.59l7.72-7.72 1.47 1.35L5.41 20z\"/>\n",
              "  </svg>\n",
              "      </button>\n",
              "      \n",
              "  <style>\n",
              "    .colab-df-container {\n",
              "      display:flex;\n",
              "      flex-wrap:wrap;\n",
              "      gap: 12px;\n",
              "    }\n",
              "\n",
              "    .colab-df-convert {\n",
              "      background-color: #E8F0FE;\n",
              "      border: none;\n",
              "      border-radius: 50%;\n",
              "      cursor: pointer;\n",
              "      display: none;\n",
              "      fill: #1967D2;\n",
              "      height: 32px;\n",
              "      padding: 0 0 0 0;\n",
              "      width: 32px;\n",
              "    }\n",
              "\n",
              "    .colab-df-convert:hover {\n",
              "      background-color: #E2EBFA;\n",
              "      box-shadow: 0px 1px 2px rgba(60, 64, 67, 0.3), 0px 1px 3px 1px rgba(60, 64, 67, 0.15);\n",
              "      fill: #174EA6;\n",
              "    }\n",
              "\n",
              "    [theme=dark] .colab-df-convert {\n",
              "      background-color: #3B4455;\n",
              "      fill: #D2E3FC;\n",
              "    }\n",
              "\n",
              "    [theme=dark] .colab-df-convert:hover {\n",
              "      background-color: #434B5C;\n",
              "      box-shadow: 0px 1px 3px 1px rgba(0, 0, 0, 0.15);\n",
              "      filter: drop-shadow(0px 1px 2px rgba(0, 0, 0, 0.3));\n",
              "      fill: #FFFFFF;\n",
              "    }\n",
              "  </style>\n",
              "\n",
              "      <script>\n",
              "        const buttonEl =\n",
              "          document.querySelector('#df-09827962-8b2c-416b-b5af-21cfc2ab82fb button.colab-df-convert');\n",
              "        buttonEl.style.display =\n",
              "          google.colab.kernel.accessAllowed ? 'block' : 'none';\n",
              "\n",
              "        async function convertToInteractive(key) {\n",
              "          const element = document.querySelector('#df-09827962-8b2c-416b-b5af-21cfc2ab82fb');\n",
              "          const dataTable =\n",
              "            await google.colab.kernel.invokeFunction('convertToInteractive',\n",
              "                                                     [key], {});\n",
              "          if (!dataTable) return;\n",
              "\n",
              "          const docLinkHtml = 'Like what you see? Visit the ' +\n",
              "            '<a target=\"_blank\" href=https://colab.research.google.com/notebooks/data_table.ipynb>data table notebook</a>'\n",
              "            + ' to learn more about interactive tables.';\n",
              "          element.innerHTML = '';\n",
              "          dataTable['output_type'] = 'display_data';\n",
              "          await google.colab.output.renderOutput(dataTable, element);\n",
              "          const docLink = document.createElement('div');\n",
              "          docLink.innerHTML = docLinkHtml;\n",
              "          element.appendChild(docLink);\n",
              "        }\n",
              "      </script>\n",
              "    </div>\n",
              "  </div>\n",
              "  "
            ],
            "text/plain": [
              "   tid                  calle        comuna      region\n",
              "0    1       Andres Bello 111   Providencia          RM\n",
              "1    2  Avenida Argentina 125    Valparaíso  Valparaíso\n",
              "2    3    Calle 10 Norte 145B  Viña del Mar  Valparaíso"
            ]
          },
          "execution_count": 3,
          "metadata": {},
          "output_type": "execute_result"
        }
      ],
      "source": [
        "%%sql\n",
        "SELECT *\n",
        "FROM Tiendas;"
      ]
    },
    {
      "cell_type": "code",
      "execution_count": null,
      "metadata": {
        "colab": {
          "base_uri": "https://localhost:8080/",
          "height": 224
        },
        "id": "1ZuhF2N_5rXi",
        "outputId": "29d71687-d2cc-4d34-84f8-7f014eeec3f0"
      },
      "outputs": [
        {
          "name": "stdout",
          "output_type": "stream",
          "text": [
            " * postgresql+psycopg2://@/postgres\n"
          ]
        },
        {
          "data": {
            "text/html": [
              "\n",
              "  <div id=\"df-15a1d2c0-fc07-49d2-a1ce-632ffff9d64a\">\n",
              "    <div class=\"colab-df-container\">\n",
              "      <div>\n",
              "<style scoped>\n",
              "    .dataframe tbody tr th:only-of-type {\n",
              "        vertical-align: middle;\n",
              "    }\n",
              "\n",
              "    .dataframe tbody tr th {\n",
              "        vertical-align: top;\n",
              "    }\n",
              "\n",
              "    .dataframe thead th {\n",
              "        text-align: right;\n",
              "    }\n",
              "</style>\n",
              "<table border=\"1\" class=\"dataframe\">\n",
              "  <thead>\n",
              "    <tr style=\"text-align: right;\">\n",
              "      <th></th>\n",
              "      <th>uid</th>\n",
              "      <th>nombre</th>\n",
              "      <th>calle</th>\n",
              "      <th>comuna</th>\n",
              "      <th>region</th>\n",
              "    </tr>\n",
              "  </thead>\n",
              "  <tbody>\n",
              "    <tr>\n",
              "      <th>0</th>\n",
              "      <td>1</td>\n",
              "      <td>Valentina</td>\n",
              "      <td>Calle 123</td>\n",
              "      <td>Conchalí</td>\n",
              "      <td>RM</td>\n",
              "    </tr>\n",
              "    <tr>\n",
              "      <th>1</th>\n",
              "      <td>2</td>\n",
              "      <td>Adrián</td>\n",
              "      <td>Dirección 145</td>\n",
              "      <td>Maipú</td>\n",
              "      <td>RM</td>\n",
              "    </tr>\n",
              "    <tr>\n",
              "      <th>2</th>\n",
              "      <td>5</td>\n",
              "      <td>Lomos</td>\n",
              "      <td>Dirección 90</td>\n",
              "      <td>Maipú</td>\n",
              "      <td>RM</td>\n",
              "    </tr>\n",
              "    <tr>\n",
              "      <th>3</th>\n",
              "      <td>3</td>\n",
              "      <td>Conito</td>\n",
              "      <td>Otra Calle 78</td>\n",
              "      <td>Viña del Mar</td>\n",
              "      <td>Valparaíso</td>\n",
              "    </tr>\n",
              "    <tr>\n",
              "      <th>4</th>\n",
              "      <td>4</td>\n",
              "      <td>Frambuesa</td>\n",
              "      <td>Más direcciones 90</td>\n",
              "      <td>Concón</td>\n",
              "      <td>Valparaíso</td>\n",
              "    </tr>\n",
              "  </tbody>\n",
              "</table>\n",
              "</div>\n",
              "      <button class=\"colab-df-convert\" onclick=\"convertToInteractive('df-15a1d2c0-fc07-49d2-a1ce-632ffff9d64a')\"\n",
              "              title=\"Convert this dataframe to an interactive table.\"\n",
              "              style=\"display:none;\">\n",
              "        \n",
              "  <svg xmlns=\"http://www.w3.org/2000/svg\" height=\"24px\"viewBox=\"0 0 24 24\"\n",
              "       width=\"24px\">\n",
              "    <path d=\"M0 0h24v24H0V0z\" fill=\"none\"/>\n",
              "    <path d=\"M18.56 5.44l.94 2.06.94-2.06 2.06-.94-2.06-.94-.94-2.06-.94 2.06-2.06.94zm-11 1L8.5 8.5l.94-2.06 2.06-.94-2.06-.94L8.5 2.5l-.94 2.06-2.06.94zm10 10l.94 2.06.94-2.06 2.06-.94-2.06-.94-.94-2.06-.94 2.06-2.06.94z\"/><path d=\"M17.41 7.96l-1.37-1.37c-.4-.4-.92-.59-1.43-.59-.52 0-1.04.2-1.43.59L10.3 9.45l-7.72 7.72c-.78.78-.78 2.05 0 2.83L4 21.41c.39.39.9.59 1.41.59.51 0 1.02-.2 1.41-.59l7.78-7.78 2.81-2.81c.8-.78.8-2.07 0-2.86zM5.41 20L4 18.59l7.72-7.72 1.47 1.35L5.41 20z\"/>\n",
              "  </svg>\n",
              "      </button>\n",
              "      \n",
              "  <style>\n",
              "    .colab-df-container {\n",
              "      display:flex;\n",
              "      flex-wrap:wrap;\n",
              "      gap: 12px;\n",
              "    }\n",
              "\n",
              "    .colab-df-convert {\n",
              "      background-color: #E8F0FE;\n",
              "      border: none;\n",
              "      border-radius: 50%;\n",
              "      cursor: pointer;\n",
              "      display: none;\n",
              "      fill: #1967D2;\n",
              "      height: 32px;\n",
              "      padding: 0 0 0 0;\n",
              "      width: 32px;\n",
              "    }\n",
              "\n",
              "    .colab-df-convert:hover {\n",
              "      background-color: #E2EBFA;\n",
              "      box-shadow: 0px 1px 2px rgba(60, 64, 67, 0.3), 0px 1px 3px 1px rgba(60, 64, 67, 0.15);\n",
              "      fill: #174EA6;\n",
              "    }\n",
              "\n",
              "    [theme=dark] .colab-df-convert {\n",
              "      background-color: #3B4455;\n",
              "      fill: #D2E3FC;\n",
              "    }\n",
              "\n",
              "    [theme=dark] .colab-df-convert:hover {\n",
              "      background-color: #434B5C;\n",
              "      box-shadow: 0px 1px 3px 1px rgba(0, 0, 0, 0.15);\n",
              "      filter: drop-shadow(0px 1px 2px rgba(0, 0, 0, 0.3));\n",
              "      fill: #FFFFFF;\n",
              "    }\n",
              "  </style>\n",
              "\n",
              "      <script>\n",
              "        const buttonEl =\n",
              "          document.querySelector('#df-15a1d2c0-fc07-49d2-a1ce-632ffff9d64a button.colab-df-convert');\n",
              "        buttonEl.style.display =\n",
              "          google.colab.kernel.accessAllowed ? 'block' : 'none';\n",
              "\n",
              "        async function convertToInteractive(key) {\n",
              "          const element = document.querySelector('#df-15a1d2c0-fc07-49d2-a1ce-632ffff9d64a');\n",
              "          const dataTable =\n",
              "            await google.colab.kernel.invokeFunction('convertToInteractive',\n",
              "                                                     [key], {});\n",
              "          if (!dataTable) return;\n",
              "\n",
              "          const docLinkHtml = 'Like what you see? Visit the ' +\n",
              "            '<a target=\"_blank\" href=https://colab.research.google.com/notebooks/data_table.ipynb>data table notebook</a>'\n",
              "            + ' to learn more about interactive tables.';\n",
              "          element.innerHTML = '';\n",
              "          dataTable['output_type'] = 'display_data';\n",
              "          await google.colab.output.renderOutput(dataTable, element);\n",
              "          const docLink = document.createElement('div');\n",
              "          docLink.innerHTML = docLinkHtml;\n",
              "          element.appendChild(docLink);\n",
              "        }\n",
              "      </script>\n",
              "    </div>\n",
              "  </div>\n",
              "  "
            ],
            "text/plain": [
              "   uid     nombre               calle        comuna      region\n",
              "0    1  Valentina           Calle 123      Conchalí          RM\n",
              "1    2     Adrián       Dirección 145         Maipú          RM\n",
              "2    5      Lomos        Dirección 90         Maipú          RM\n",
              "3    3     Conito       Otra Calle 78  Viña del Mar  Valparaíso\n",
              "4    4  Frambuesa  Más direcciones 90        Concón  Valparaíso"
            ]
          },
          "execution_count": 4,
          "metadata": {},
          "output_type": "execute_result"
        }
      ],
      "source": [
        "%%sql\n",
        "SELECT *\n",
        "FROM Usuarios;"
      ]
    },
    {
      "cell_type": "code",
      "execution_count": null,
      "metadata": {
        "colab": {
          "base_uri": "https://localhost:8080/",
          "height": 632
        },
        "id": "ctqUBOlT5wSe",
        "outputId": "9072f023-1aa7-4a96-f7d2-386938a9c133"
      },
      "outputs": [
        {
          "name": "stdout",
          "output_type": "stream",
          "text": [
            " * postgresql+psycopg2://@/postgres\n"
          ]
        },
        {
          "data": {
            "text/html": [
              "\n",
              "  <div id=\"df-566f89d2-46df-40f9-b9d1-481e3ffe0427\">\n",
              "    <div class=\"colab-df-container\">\n",
              "      <div>\n",
              "<style scoped>\n",
              "    .dataframe tbody tr th:only-of-type {\n",
              "        vertical-align: middle;\n",
              "    }\n",
              "\n",
              "    .dataframe tbody tr th {\n",
              "        vertical-align: top;\n",
              "    }\n",
              "\n",
              "    .dataframe thead th {\n",
              "        text-align: right;\n",
              "    }\n",
              "</style>\n",
              "<table border=\"1\" class=\"dataframe\">\n",
              "  <thead>\n",
              "    <tr style=\"text-align: right;\">\n",
              "      <th></th>\n",
              "      <th>cid</th>\n",
              "      <th>pid</th>\n",
              "      <th>cantidad</th>\n",
              "    </tr>\n",
              "  </thead>\n",
              "  <tbody>\n",
              "    <tr>\n",
              "      <th>0</th>\n",
              "      <td>1</td>\n",
              "      <td>100</td>\n",
              "      <td>2</td>\n",
              "    </tr>\n",
              "    <tr>\n",
              "      <th>1</th>\n",
              "      <td>101</td>\n",
              "      <td>800</td>\n",
              "      <td>2</td>\n",
              "    </tr>\n",
              "    <tr>\n",
              "      <th>2</th>\n",
              "      <td>101</td>\n",
              "      <td>900</td>\n",
              "      <td>1</td>\n",
              "    </tr>\n",
              "    <tr>\n",
              "      <th>3</th>\n",
              "      <td>101</td>\n",
              "      <td>100</td>\n",
              "      <td>1</td>\n",
              "    </tr>\n",
              "    <tr>\n",
              "      <th>4</th>\n",
              "      <td>101</td>\n",
              "      <td>1000</td>\n",
              "      <td>3</td>\n",
              "    </tr>\n",
              "    <tr>\n",
              "      <th>5</th>\n",
              "      <td>3</td>\n",
              "      <td>400</td>\n",
              "      <td>2</td>\n",
              "    </tr>\n",
              "    <tr>\n",
              "      <th>6</th>\n",
              "      <td>4</td>\n",
              "      <td>200</td>\n",
              "      <td>3</td>\n",
              "    </tr>\n",
              "    <tr>\n",
              "      <th>7</th>\n",
              "      <td>5</td>\n",
              "      <td>100</td>\n",
              "      <td>1</td>\n",
              "    </tr>\n",
              "    <tr>\n",
              "      <th>8</th>\n",
              "      <td>6</td>\n",
              "      <td>100</td>\n",
              "      <td>3</td>\n",
              "    </tr>\n",
              "    <tr>\n",
              "      <th>9</th>\n",
              "      <td>6</td>\n",
              "      <td>600</td>\n",
              "      <td>1</td>\n",
              "    </tr>\n",
              "    <tr>\n",
              "      <th>10</th>\n",
              "      <td>7</td>\n",
              "      <td>300</td>\n",
              "      <td>1</td>\n",
              "    </tr>\n",
              "    <tr>\n",
              "      <th>11</th>\n",
              "      <td>7</td>\n",
              "      <td>700</td>\n",
              "      <td>1</td>\n",
              "    </tr>\n",
              "    <tr>\n",
              "      <th>12</th>\n",
              "      <td>8</td>\n",
              "      <td>200</td>\n",
              "      <td>4</td>\n",
              "    </tr>\n",
              "    <tr>\n",
              "      <th>13</th>\n",
              "      <td>8</td>\n",
              "      <td>1000</td>\n",
              "      <td>2</td>\n",
              "    </tr>\n",
              "    <tr>\n",
              "      <th>14</th>\n",
              "      <td>9</td>\n",
              "      <td>100</td>\n",
              "      <td>2</td>\n",
              "    </tr>\n",
              "    <tr>\n",
              "      <th>15</th>\n",
              "      <td>10</td>\n",
              "      <td>100</td>\n",
              "      <td>1</td>\n",
              "    </tr>\n",
              "    <tr>\n",
              "      <th>16</th>\n",
              "      <td>11</td>\n",
              "      <td>200</td>\n",
              "      <td>1</td>\n",
              "    </tr>\n",
              "    <tr>\n",
              "      <th>17</th>\n",
              "      <td>12</td>\n",
              "      <td>500</td>\n",
              "      <td>3</td>\n",
              "    </tr>\n",
              "  </tbody>\n",
              "</table>\n",
              "</div>\n",
              "      <button class=\"colab-df-convert\" onclick=\"convertToInteractive('df-566f89d2-46df-40f9-b9d1-481e3ffe0427')\"\n",
              "              title=\"Convert this dataframe to an interactive table.\"\n",
              "              style=\"display:none;\">\n",
              "        \n",
              "  <svg xmlns=\"http://www.w3.org/2000/svg\" height=\"24px\"viewBox=\"0 0 24 24\"\n",
              "       width=\"24px\">\n",
              "    <path d=\"M0 0h24v24H0V0z\" fill=\"none\"/>\n",
              "    <path d=\"M18.56 5.44l.94 2.06.94-2.06 2.06-.94-2.06-.94-.94-2.06-.94 2.06-2.06.94zm-11 1L8.5 8.5l.94-2.06 2.06-.94-2.06-.94L8.5 2.5l-.94 2.06-2.06.94zm10 10l.94 2.06.94-2.06 2.06-.94-2.06-.94-.94-2.06-.94 2.06-2.06.94z\"/><path d=\"M17.41 7.96l-1.37-1.37c-.4-.4-.92-.59-1.43-.59-.52 0-1.04.2-1.43.59L10.3 9.45l-7.72 7.72c-.78.78-.78 2.05 0 2.83L4 21.41c.39.39.9.59 1.41.59.51 0 1.02-.2 1.41-.59l7.78-7.78 2.81-2.81c.8-.78.8-2.07 0-2.86zM5.41 20L4 18.59l7.72-7.72 1.47 1.35L5.41 20z\"/>\n",
              "  </svg>\n",
              "      </button>\n",
              "      \n",
              "  <style>\n",
              "    .colab-df-container {\n",
              "      display:flex;\n",
              "      flex-wrap:wrap;\n",
              "      gap: 12px;\n",
              "    }\n",
              "\n",
              "    .colab-df-convert {\n",
              "      background-color: #E8F0FE;\n",
              "      border: none;\n",
              "      border-radius: 50%;\n",
              "      cursor: pointer;\n",
              "      display: none;\n",
              "      fill: #1967D2;\n",
              "      height: 32px;\n",
              "      padding: 0 0 0 0;\n",
              "      width: 32px;\n",
              "    }\n",
              "\n",
              "    .colab-df-convert:hover {\n",
              "      background-color: #E2EBFA;\n",
              "      box-shadow: 0px 1px 2px rgba(60, 64, 67, 0.3), 0px 1px 3px 1px rgba(60, 64, 67, 0.15);\n",
              "      fill: #174EA6;\n",
              "    }\n",
              "\n",
              "    [theme=dark] .colab-df-convert {\n",
              "      background-color: #3B4455;\n",
              "      fill: #D2E3FC;\n",
              "    }\n",
              "\n",
              "    [theme=dark] .colab-df-convert:hover {\n",
              "      background-color: #434B5C;\n",
              "      box-shadow: 0px 1px 3px 1px rgba(0, 0, 0, 0.15);\n",
              "      filter: drop-shadow(0px 1px 2px rgba(0, 0, 0, 0.3));\n",
              "      fill: #FFFFFF;\n",
              "    }\n",
              "  </style>\n",
              "\n",
              "      <script>\n",
              "        const buttonEl =\n",
              "          document.querySelector('#df-566f89d2-46df-40f9-b9d1-481e3ffe0427 button.colab-df-convert');\n",
              "        buttonEl.style.display =\n",
              "          google.colab.kernel.accessAllowed ? 'block' : 'none';\n",
              "\n",
              "        async function convertToInteractive(key) {\n",
              "          const element = document.querySelector('#df-566f89d2-46df-40f9-b9d1-481e3ffe0427');\n",
              "          const dataTable =\n",
              "            await google.colab.kernel.invokeFunction('convertToInteractive',\n",
              "                                                     [key], {});\n",
              "          if (!dataTable) return;\n",
              "\n",
              "          const docLinkHtml = 'Like what you see? Visit the ' +\n",
              "            '<a target=\"_blank\" href=https://colab.research.google.com/notebooks/data_table.ipynb>data table notebook</a>'\n",
              "            + ' to learn more about interactive tables.';\n",
              "          element.innerHTML = '';\n",
              "          dataTable['output_type'] = 'display_data';\n",
              "          await google.colab.output.renderOutput(dataTable, element);\n",
              "          const docLink = document.createElement('div');\n",
              "          docLink.innerHTML = docLinkHtml;\n",
              "          element.appendChild(docLink);\n",
              "        }\n",
              "      </script>\n",
              "    </div>\n",
              "  </div>\n",
              "  "
            ],
            "text/plain": [
              "    cid   pid  cantidad\n",
              "0     1   100         2\n",
              "1   101   800         2\n",
              "2   101   900         1\n",
              "3   101   100         1\n",
              "4   101  1000         3\n",
              "5     3   400         2\n",
              "6     4   200         3\n",
              "7     5   100         1\n",
              "8     6   100         3\n",
              "9     6   600         1\n",
              "10    7   300         1\n",
              "11    7   700         1\n",
              "12    8   200         4\n",
              "13    8  1000         2\n",
              "14    9   100         2\n",
              "15   10   100         1\n",
              "16   11   200         1\n",
              "17   12   500         3"
            ]
          },
          "execution_count": 5,
          "metadata": {},
          "output_type": "execute_result"
        }
      ],
      "source": [
        "%%sql\n",
        "SELECT *\n",
        "FROM Contenido_Compra;"
      ]
    },
    {
      "cell_type": "markdown",
      "metadata": {
        "id": "HJ1sz1cdfPsu"
      },
      "source": [
        "## 4. Consultas [6 puntos]\n",
        "\n",
        "Escriban las siguentes consultas SQL que funcionan sobre el esquema de arriba. Cada consulta vale 0.5 puntos.\n"
      ]
    },
    {
      "cell_type": "markdown",
      "metadata": {
        "id": "EXxrXyc5fdI5"
      },
      "source": [
        "**1**. Liste el precio del producto más carro."
      ]
    },
    {
      "cell_type": "code",
      "execution_count": null,
      "metadata": {
        "id": "MId0N2zUfiEb"
      },
      "outputs": [],
      "source": []
    },
    {
      "cell_type": "markdown",
      "metadata": {
        "id": "xu6hBwo2fisy"
      },
      "source": [
        "2. Liste el número de usuarios viviendo en la Región Metropolitana."
      ]
    },
    {
      "cell_type": "code",
      "execution_count": null,
      "metadata": {
        "id": "oDYkr0arftqK"
      },
      "outputs": [],
      "source": []
    },
    {
      "cell_type": "markdown",
      "metadata": {
        "id": "k2GrHq0GreEQ"
      },
      "source": [
        "3. Liste nombre y precio de todos los productos vendidos por una tienda ubicada en la región 'Vaparaíso' (cuidado con acentos). Los productos deben ser ordenado por precio, desde más carro hasta el más barato. La lista de respuestas no debería contener productos repetidos."
      ]
    },
    {
      "cell_type": "code",
      "execution_count": null,
      "metadata": {
        "id": "vXP-nIHPrgcR"
      },
      "outputs": [],
      "source": []
    },
    {
      "cell_type": "markdown",
      "metadata": {
        "id": "ipn60AvGftip"
      },
      "source": [
        "4. Para cada tienda, liste el número de productos vendidos por esta tienda."
      ]
    },
    {
      "cell_type": "code",
      "execution_count": null,
      "metadata": {
        "id": "FUIZ-SR_fzWb"
      },
      "outputs": [],
      "source": []
    },
    {
      "cell_type": "markdown",
      "metadata": {
        "id": "bW65jwE_f1Es"
      },
      "source": [
        "5. Retornar nombre del usuario, junto con el *precio* del producto más barato que compró. Si el usuario no realizó ninguna compra, retornar 0:"
      ]
    },
    {
      "cell_type": "code",
      "execution_count": null,
      "metadata": {
        "id": "GWkTKrfGf1QW"
      },
      "outputs": [],
      "source": []
    },
    {
      "cell_type": "markdown",
      "metadata": {
        "id": "kb9m82zff6Cn"
      },
      "source": [
        "6. Retornar nombres de los usuarios que realizaron la compra con el mayor valor: "
      ]
    },
    {
      "cell_type": "code",
      "execution_count": null,
      "metadata": {
        "id": "GhUGvZW2f6M7"
      },
      "outputs": [],
      "source": []
    },
    {
      "cell_type": "markdown",
      "metadata": {
        "id": "2jc-m4yGgCyW"
      },
      "source": [
        "7. Para cada región, listar el id de la tienda más preferida por los usuarios que **no** viven en esta región. Quiere decir, para cada tienda hay que computar el número de usuarios distintos que viven en una región distinta a la región dónde se ubica la tienda, y quienes realizaron una compra en dicha tienda. Se considera el número de usuarios **distintos**; quiere decir, si un usuario realizó dos compras, esto suma 1 al conteo de usuarios. Después para cada región detectar la tienda con mayor número de usuarios computados de esta manera."
      ]
    },
    {
      "cell_type": "code",
      "execution_count": null,
      "metadata": {
        "id": "M1Pm4BslgC7b"
      },
      "outputs": [],
      "source": []
    },
    {
      "cell_type": "markdown",
      "metadata": {
        "id": "tV-T3TD2gGzn"
      },
      "source": [
        "8. Listar nombre de los usuarios que compraron uno de los cinco productos más caros. Para sacar los cinco más caros, usar LIMIT:"
      ]
    },
    {
      "cell_type": "code",
      "execution_count": null,
      "metadata": {
        "id": "lIfDy8SVgG89"
      },
      "outputs": [],
      "source": []
    },
    {
      "cell_type": "markdown",
      "metadata": {
        "id": "b6Rss9xogK7-"
      },
      "source": [
        "9. Listar Id de cada tienda, junto con el promedio de los precios de todos los productos que vende esta tienda"
      ]
    },
    {
      "cell_type": "code",
      "execution_count": null,
      "metadata": {
        "id": "QN_OuKTIyoG2"
      },
      "outputs": [],
      "source": []
    },
    {
      "cell_type": "markdown",
      "metadata": {
        "id": "Z3-1GyH7gOl9"
      },
      "source": [
        "10. Listar nombres de todos los usuarios que realizaron una compra dónde compraron tres o más productos distintos (si el mismo producto fue comprado 3 veces o mas, esto cuenta cómo un producto)."
      ]
    },
    {
      "cell_type": "code",
      "execution_count": null,
      "metadata": {
        "id": "6UxyG2fwgOvm"
      },
      "outputs": [],
      "source": []
    },
    {
      "cell_type": "markdown",
      "metadata": {
        "id": "OMt248I7gTU8"
      },
      "source": [
        "11. Para cada compra con **tres o más productos**, listar su id, el nombre del usuario, y el número de productos comprados en esta compra. Si un producto fue comprado dos o más veces, hay que contar esto (quiere decir: aquí sí cuentan los productos repetidos):"
      ]
    },
    {
      "cell_type": "code",
      "execution_count": null,
      "metadata": {
        "id": "zJRNJxAipCgA"
      },
      "outputs": [],
      "source": []
    },
    {
      "cell_type": "markdown",
      "metadata": {
        "id": "KRVW6hUiGuYA"
      },
      "source": [
        "12. Liste los nombres de los productos más baratos (puede haber más qué uno)."
      ]
    },
    {
      "cell_type": "code",
      "execution_count": null,
      "metadata": {
        "id": "_nokRyeayoG7"
      },
      "outputs": [],
      "source": []
    }
  ],
  "metadata": {
    "colab": {
      "provenance": []
    },
    "kernelspec": {
      "display_name": "Python 3",
      "language": "python",
      "name": "python3"
    },
    "language_info": {
      "codemirror_mode": {
        "name": "ipython",
        "version": 3
      },
      "file_extension": ".py",
      "mimetype": "text/x-python",
      "name": "python",
      "nbconvert_exporter": "python",
      "pygments_lexer": "ipython3",
      "version": "3.8.4"
    }
  },
  "nbformat": 4,
  "nbformat_minor": 0
}